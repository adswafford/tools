{
 "cells": [
  {
   "cell_type": "code",
   "execution_count": 1,
   "metadata": {},
   "outputs": [],
   "source": [
    "from queue import Queue\n",
    "import os\n",
    "import glob\n",
    "import biom\n",
    "import pandas as pd"
   ]
  },
  {
   "cell_type": "code",
   "execution_count": 2,
   "metadata": {},
   "outputs": [],
   "source": [
    "def resolve_sample_name(qiime_df):\n",
    "    try:\n",
    "        qiime_df.rename(index=str, columns={\"#sampleid\": \"sample_name\"}, inplace=True)\n",
    "    except:\n",
    "        print('#sampleid not found')\n",
    "    return qiime_df\n",
    "\n",
    "def clean_panda(file):\n",
    "    cp_df = pd.read_csv(file,header=0, sep ='\\t', decimal = ',',dtype={'sample_name': str,'#SampleID':str},\n",
    "            true_values =['true','yes','y','Yes','Y','YES'],\n",
    "            false_values=['false','no','n','No','N','NO'],\n",
    "            na_values=['Unknown','Unspecified','no_data','not applicable','Missing: not collected', 'Missing: not provided','not collected','not provided', 'restricted_access'],\n",
    "            low_memory= False\n",
    "            )\n",
    "    \n",
    "    cp_df.columns = cp_df.columns.str.lower()\n",
    "    \n",
    "    #align dataframes on 'sample_name'\n",
    "    cp_df = resolve_sample_name(cp_df)\n",
    "    print(cp_df.head())\n",
    "    cp_df.set_index('sample_name', inplace=True)\n",
    "    cp_df.drop('#q2:types',axis=0,inplace=True)\n",
    "    #print(cp_df.head())\n",
    "    return cp_df"
   ]
  },
  {
   "cell_type": "code",
   "execution_count": 3,
   "metadata": {},
   "outputs": [
    {
     "name": "stdout",
     "output_type": "stream",
     "text": [
      "./20181120_seed_11851.biom\n",
      "./20181120_seed_11712.biom\n",
      "./20181120_seed_10798.biom\n",
      "./GFoP_ref_hits_prep1.biom\n",
      "./20181120_all_soil.biom\n",
      "./20181120_seed_10911.biom\n",
      "./20181120_seed_10442.biom\n",
      "./20181101_emp_release1.biom\n",
      "./20181120_seed_11149.biom\n",
      "./20181120_seed_10812.biom\n",
      "./20181120_seed_10541.biom\n",
      "./20181120_seed_10764.biom\n",
      "./20181120_all_mouse.biom\n",
      "./20181120_seed_11713.biom\n",
      "./20181120_seed_10781.biom\n",
      "./20181120_seed_10895.biom\n",
      "./20181120_seed_11043.biom\n",
      "./20181120_seed_10918.biom\n",
      "./20181120_seed_11129.biom\n",
      "./20181120_seed_10689.biom\n",
      "./20181120_seed_11546.biom\n",
      "./20181120_seed_10464.biom\n",
      "./20181120_seed_10955.biom\n",
      "\u001b[32mImported ./20181120_seed_10955_rep_seqs.fa as DNASequencesDirectoryFormat to ./20181120_seed_10955_rep_seqs.qza\u001b[0m\n",
      "./20181120_seed_11110.biom\n",
      "./20181120_seed_10933.biom\n",
      "./20181120_all_public_human.biom\n",
      "./20181120_seed_10557.biom\n",
      "./GFoP_ref_hits_prep2.biom\n",
      "./20181120_seed_11479.biom\n",
      "./20181120_seed_10801.biom\n",
      "./20181120_seed_10724.biom\n",
      "./20181120_seed_11261.biom\n",
      "./20181120_seed_10917.biom\n",
      "./20181120_seed_10422.biom\n",
      "./20181120_seed_10546.biom\n",
      "./20181120_seed_10767.biom\n"
     ]
    }
   ],
   "source": [
    "count = 0\n",
    "for biom_file in glob.iglob('./*.biom'):\n",
    "    print(biom_file)\n",
    "    biom_table=biom.load_table(biom_file)\n",
    "    df = pd.DataFrame(biom_table.ids(axis='observation'))\n",
    "    #print(df.head())\n",
    "    fasta_file = biom_file.replace('.biom','_rep_seqs.fa')\n",
    "    if not os.path.isfile(fasta_file):\n",
    "        with open(fasta_file,\"a\") as output:\n",
    "            for row in df[0]:\n",
    "                output.write('>' + row+'\\n')\n",
    "                output.write(row+'\\n')\n",
    "    #import features\n",
    "    fasta_qza = fasta_file.replace('.fa','.qza')\n",
    "    if not os.path.isfile(fasta_qza):\n",
    "        !qiime tools import \\\n",
    "            --input-path $fasta_file \\\n",
    "            --output-path $fasta_qza \\\n",
    "            --type 'FeatureData[Sequence]'    "
   ]
  },
  {
   "cell_type": "code",
   "execution_count": 4,
   "metadata": {},
   "outputs": [],
   "source": [
    "for fasta in glob.iglob('./*.fa'):\n",
    "    !cat $fasta >> 20181120_merged_fasta.csv"
   ]
  },
  {
   "cell_type": "code",
   "execution_count": 5,
   "metadata": {},
   "outputs": [],
   "source": [
    "merged_fa = pd.read_csv('20181120_merged_fasta.csv',header=None)\n",
    "de_duplicated=merged_fa[0].drop_duplicates()\n",
    "de_duplicated.to_csv('20181120_merged_fasta_cleaned.fa',header=False,index=False)\n"
   ]
  },
  {
   "cell_type": "code",
   "execution_count": 6,
   "metadata": {},
   "outputs": [
    {
     "name": "stdout",
     "output_type": "stream",
     "text": [
      "\u001b[32mImported 20181120_merged_fasta_cleaned.fa as DNASequencesDirectoryFormat to 20181120_deblurred_seqs_megatree_merged.qza\u001b[0m\r\n"
     ]
    }
   ],
   "source": [
    "!qiime tools import \\\n",
    "    --input-path 20181120_merged_fasta_cleaned.fa \\\n",
    "    --output-path 20181120_deblurred_seqs_megatree_merged.qza \\\n",
    "    --type 'FeatureData[Sequence]'"
   ]
  },
  {
   "cell_type": "code",
   "execution_count": 11,
   "metadata": {},
   "outputs": [
    {
     "name": "stdout",
     "output_type": "stream",
     "text": [
      ">TACGAAGGGGGCGAGCGTTATTCGGAATCACTGGGCGTAAAGCGTGCGTAGGCGGTTTTGTAAGTTGGAAGTGAAAGCCCAGGGCTCAACCTTGGAATTGCTTTCAAAACTACAAGACTTGAATTCGGGAGAGGATAGCGGAATTATCAG\r\n",
      "TACGAAGGGGGCGAGCGTTATTCGGAATCACTGGGCGTAAAGCGTGCGTAGGCGGTTTTGTAAGTTGGAAGTGAAAGCCCAGGGCTCAACCTTGGAATTGCTTTCAAAACTACAAGACTTGAATTCGGGAGAGGATAGCGGAATTATCAG\r\n",
      ">TACGTAGGGGGCAAGCGTTGTCCGGATTTATTGGGCGTAAAGAGCGTGTAGGCGGCCAGACAGGTCCGTTGTGAAAACTCGAGGCTCAACCTCGAGACGTCGATGGAAACCGTCTGGCTAGAGTCCGGAAGAGGAGAGGGGAATTCCTGG\r\n",
      "TACGTAGGGGGCAAGCGTTGTCCGGATTTATTGGGCGTAAAGAGCGTGTAGGCGGCCAGACAGGTCCGTTGTGAAAACTCGAGGCTCAACCTCGAGACGTCGATGGAAACCGTCTGGCTAGAGTCCGGAAGAGGAGAGGGGAATTCCTGG\r\n",
      ">TACGAAGGGTGCAAGCGTTGCTCGGAATTATTGGGCGTAAAGGGTTGGTAGGTGGTTACGTATGTCTGGGGTGAAATCCCTGAGCTCAACTCAGGACGTGCCTTGGAAACGGCGTAACTAGAGTACTAGAGAGGATCGTGGAATTCCTGG\r\n",
      "TACGAAGGGTGCAAGCGTTGCTCGGAATTATTGGGCGTAAAGGGTTGGTAGGTGGTTACGTATGTCTGGGGTGAAATCCCTGAGCTCAACTCAGGACGTGCCTTGGAAACGGCGTAACTAGAGTACTAGAGAGGATCGTGGAATTCCTGG\r\n",
      ">TACGTAGGGTGCAGGCGTTAATCGGAATTACTGGGCGTAAAGCGCGCGTAGGCGGATTGGAAAGTTGGGGGTGAAATCCCGGGGCTCAACCCCGGAACTGCCTCCAAAACTATCAGTCTAGAGTTCGAGAGAGGTGAGTGGAATTCCAAG\r\n",
      "TACGTAGGGTGCAGGCGTTAATCGGAATTACTGGGCGTAAAGCGCGCGTAGGCGGATTGGAAAGTTGGGGGTGAAATCCCGGGGCTCAACCCCGGAACTGCCTCCAAAACTATCAGTCTAGAGTTCGAGAGAGGTGAGTGGAATTCCAAG\r\n",
      ">TACGTAGGTTGCAAGCATTATCCGGAATTATTGGGCGTAAAGAGTGAGCAGGCGGCTTGTTAAGTTTAAAGTCAAATCTATGGGCTCAACCCATATTCGCTTTAAAAACTGGCAGGCTAGAGTATGGTAGAGGCAAATGGAATTTCTAGT\r\n",
      "TACGTAGGTTGCAAGCATTATCCGGAATTATTGGGCGTAAAGAGTGAGCAGGCGGCTTGTTAAGTTTAAAGTCAAATCTATGGGCTCAACCCATATTCGCTTTAAAAACTGGCAGGCTAGAGTATGGTAGAGGCAAATGGAATTTCTAGT\r\n"
     ]
    }
   ],
   "source": [
    "#generate a tree for phylogenetic diversity analyses \n",
    "!qiime fragment-insertion sepp \\\n",
    "  --i-representative-sequences /home/adswafford/Projects/MegaTree/20181120_deblurred_seqs_megatree_merged.qza \\\n",
    "  --p-threads 20 \\\n",
    "  --o-tree /home/adswafford/Projects/MegaTree/20181120_megatree_insertion-tree.qza \\\n",
    "  --o-placements /home/adswafford/Projects/MegaTree/20181120_insertion-placements.qza\n",
    "  \n",
    "echo 'SEPP job done'\n",
    "\n",
    "#get taxonomy\n",
    "!qiime fragment-insertion classify-otus-experimental \\\n",
    "  --i-representative-sequences /home/adswafford/Projects/MegaTree/20181120_deblurred_seqs_megatree_merged.qza \\\n",
    "  --i-tree /home/adswafford/Projects/MegaTree/20181120_megatree_insertion-tree.qza \\\n",
    "  --i-reference-taxonomy /home/adswafford/Projects/MegaTree/taxonomy_gg99.qza \\\n",
    "  --o-classification /home/adswafford/Projects/MegaTree/20181120_megatree_taxonomy.qza"
   ]
  },
  {
   "cell_type": "code",
   "execution_count": 18,
   "metadata": {},
   "outputs": [
    {
     "name": "stdout",
     "output_type": "stream",
     "text": [
      "[test, test2]\r\n"
     ]
    }
   ],
   "source": [
    "#DO NOT USE, need to filter, rarefy, etc. first\n",
    "!qiime diversity beta-phylogenetic \\\n",
    "    --i-table /home/adswafford/Projects/MegaTree/20181120_deblurred_biom_merged.qza \\\n",
    "    --i-phylogeny /home/adswafford/Projects/MegaTree/20181120_insertion-tree.qza \\\n",
    "    --p-metric unweighted_unifrac \\\n",
    "    --o-distance-matrix /home/adswafford/Projects/MegaTree/20181120_megatree_unweightedUniFrac_dm.qza\n",
    "\n",
    "!qiime diversity beta-phylogenetic \\\n",
    "    --i-table /home/adswafford/Projects/MegaTree/20181120_deblurred_biom_merged.qza \\\n",
    "    --i-phylogeny /home/adswafford/Projects/MegaTree/20181120_insertion-tree.qza \\\n",
    "    --p-metric weighted_normalized_unifrac \\\n",
    "    --o-distance-matrix /home/adswafford/Projects/MegaTree/20181120_megatree_WeightedNormUniFrac_dm.qza"
   ]
  },
  {
   "cell_type": "code",
   "execution_count": null,
   "metadata": {},
   "outputs": [],
   "source": []
  }
 ],
 "metadata": {
  "kernelspec": {
   "display_name": "Python 3",
   "language": "python",
   "name": "python3"
  },
  "language_info": {
   "codemirror_mode": {
    "name": "ipython",
    "version": 3
   },
   "file_extension": ".py",
   "mimetype": "text/x-python",
   "name": "python",
   "nbconvert_exporter": "python",
   "pygments_lexer": "ipython3",
   "version": "3.5.5"
  }
 },
 "nbformat": 4,
 "nbformat_minor": 2
}
