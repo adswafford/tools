{
 "cells": [
  {
   "cell_type": "code",
   "execution_count": 1,
   "metadata": {},
   "outputs": [],
   "source": [
    "import re\n",
    "import requests\n",
    "import pandas as pd"
   ]
  },
  {
   "cell_type": "code",
   "execution_count": 22,
   "metadata": {},
   "outputs": [],
   "source": [
    "def get_ucsd_patents(faculty_table, year_list):\n",
    "    ucsd_tt_stem_0 = \"https://techtransfer.universityofcalifornia.edu/Default.aspx?campus=SD&InventorFirstName=\"\n",
    "    ucsd_tt_stem_1 = \"&InventorLastName=\"\n",
    "    ucsd_tt_stem_2 = \"&PatentNumber=\"\n",
    "    ucsd_tt_stem_3 = \"&RunSearch=True&ShowDetail=False&SortASC=False&SortColumn=NCDId\"\n",
    "\n",
    "    cmi_authors = pd.read_csv(faculty_table)\n",
    "    cmi_author_year_dict = {}\n",
    "    for i in cmi_authors.index:\n",
    "        author = cmi_authors.at[i,'Full Name']\n",
    "        cmi_author_year_dict[author] = {}\n",
    "        for y in years:\n",
    "            response = requests.get(ucsd_tt_stem_0 + cmi_authors.at[i,'First']\n",
    "                    + ucsd_tt_stem_1 + cmi_authors.at[i,'Last']\n",
    "                    + ucsd_tt_stem_2 + y \n",
    "                    + ucsd_tt_stem_3)\n",
    "            tokens = [t for t in re.split(';|,| |\\n|<|>|\\/|\"|\\'',response.text) if t.endswith('NCDId')]\n",
    "            cmi_author_year_dict[author][y] = len(tokens) - 4\n",
    "    return pd.DataFrame.from_dict(cmi_author_year_dict)"
   ]
  },
  {
   "cell_type": "code",
   "execution_count": 23,
   "metadata": {},
   "outputs": [],
   "source": [
    "years = ['2016','2017','2018','2019','2020','2021']\n",
    "cmi_csv = '20210411_Faculty_Members_and_CMI.csv'\n",
    "results_df = get_ucsd_patents(cmi_csv, years)"
   ]
  },
  {
   "cell_type": "markdown",
   "metadata": {},
   "source": [
    "Print Summary by year"
   ]
  },
  {
   "cell_type": "code",
   "execution_count": 21,
   "metadata": {},
   "outputs": [
    {
     "data": {
      "text/plain": [
       "2019    15\n",
       "2020     3\n",
       "2021     2\n",
       "dtype: int64"
      ]
     },
     "execution_count": 21,
     "metadata": {},
     "output_type": "execute_result"
    }
   ],
   "source": [
    "results_df.sum(axis=1)"
   ]
  }
 ],
 "metadata": {
  "kernelspec": {
   "display_name": "Python 3",
   "language": "python",
   "name": "python3"
  },
  "language_info": {
   "codemirror_mode": {
    "name": "ipython",
    "version": 3
   },
   "file_extension": ".py",
   "mimetype": "text/x-python",
   "name": "python",
   "nbconvert_exporter": "python",
   "pygments_lexer": "ipython3",
   "version": "3.5.5"
  },
  "toc": {
   "base_numbering": 1,
   "nav_menu": {},
   "number_sections": true,
   "sideBar": true,
   "skip_h1_title": false,
   "title_cell": "Table of Contents",
   "title_sidebar": "Contents",
   "toc_cell": false,
   "toc_position": {},
   "toc_section_display": true,
   "toc_window_display": false
  }
 },
 "nbformat": 4,
 "nbformat_minor": 2
}
